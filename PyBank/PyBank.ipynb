{
 "cells": [
  {
   "cell_type": "code",
   "execution_count": 2,
   "id": "f67f6e49",
   "metadata": {},
   "outputs": [],
   "source": [
    "import csv\n",
    "import os"
   ]
  },
  {
   "cell_type": "code",
   "execution_count": 3,
   "id": "1d6363cc",
   "metadata": {},
   "outputs": [
    {
     "name": "stdout",
     "output_type": "stream",
     "text": [
      "Financial Analysis\n",
      "-------------------------\n",
      "Total Months is : 86\n",
      "Total : $22564198\n",
      "Average Change : $-8311.11\n",
      "Greatest Increase in Profits: 16-Aug ($1862002)\n",
      "Greatest Decrease in Profits: 14-Feb ($-1825558)\n"
     ]
    }
   ],
   "source": [
    "# read the csv file \n",
    "csvpath = os.path.join('BudgetData.csv')\n",
    "analysis = os.path.join(\"analysis.txt\")\n",
    "\n",
    "total_months = 0\n",
    "net_total_amount = 0\n",
    "average_change = 0\n",
    "net_change_list = []\n",
    "months = []\n",
    "\n",
    "\n",
    "with open(csvpath) as csvfile:\n",
    "    csvreader = csv.reader(csvfile, delimiter = \",\")\n",
    "    \n",
    "    csv_headers = next(csvreader)\n",
    "    \n",
    "    # Total number of months in BudgetData.csv\n",
    "    # Net total amount of \"Profit/Losses\" over period\n",
    "    # Changes in \"Profit/Losses\" over period, then average changes\n",
    "    \n",
    "    total_months +=1\n",
    "    row1 = next(csvreader)\n",
    "    prior_net = int(row1[1])\n",
    "    net_total_amount += int(row1[1])\n",
    "    \n",
    "    for x in csvreader:\n",
    "        months.append(x[0])\n",
    "        total_months +=1\n",
    "        net_total_amount += int(x[1])\n",
    "        \n",
    "        net_change = int(x[1]) - prior_net\n",
    "        net_change_list.append(net_change)\n",
    "        \n",
    "        prior_net = int(x[1])\n",
    "        \n",
    "        #total_net_change = total_net_change + net_change\n",
    "        average_change = sum(net_change_list) / len(net_change_list)\n",
    "        \n",
    "# Write results to a txt file\n",
    "with open(analysis, \"a\") as txtfile:\n",
    "    txtfile.write(f\"Financial Analysis \\n\")\n",
    "    txtfile.write(f\"-\"*25)\n",
    "    txtfile.write(\"\\n\")\n",
    "    txtfile.write(f\"Total Months is : {(total_months)} \\n\")\n",
    "    txtfile.write(f\"Total : ${net_total_amount} \\n\")\n",
    "    txtfile.write(f\"Average Change : ${str('%.2f' %average_change)} \\n\")\n",
    "    txtfile.write(f\"Greatest Increase in Profits: {months[net_change_list.index(max(net_change_list))]} (${max(net_change_list)}) \\n\")\n",
    "    txtfile.write(f\"Greatest Decrease in Profits: {months[net_change_list.index(min(net_change_list))]} (${min(net_change_list)}) \\n\")    \n",
    "        \n",
    "    \n",
    "    print(\"Financial Analysis\")\n",
    "    print(f\"-\"*25)\n",
    "    print(f\"Total Months is : {(total_months)}\")\n",
    "    print(f\"Total : ${net_total_amount}\")\n",
    "    print (f\"Average Change : ${str('%.2f' %average_change)}\")\n",
    "    print(f\"Greatest Increase in Profits: {months[net_change_list.index(max(net_change_list))]} (${max(net_change_list)})\")\n",
    "    print(f\"Greatest Decrease in Profits: {months[net_change_list.index(min(net_change_list))]} (${min(net_change_list)})\")    \n",
    "        \n",
    "\n",
    "                    "
   ]
  },
  {
   "cell_type": "code",
   "execution_count": 15,
   "id": "8622610f",
   "metadata": {},
   "outputs": [
    {
     "data": {
      "text/plain": [
       "'\\n\\nFinancial Analysis\\n----------------------------\\nTotal Months: 86\\nTotal: $22564198\\nAverage Change: $-8311.11\\nGreatest Increase in Profits: Aug-16 ($1862002)\\nGreatest Decrease in Profits: Feb-14 ($-1825558)\\n\\n\\n'"
      ]
     },
     "execution_count": 15,
     "metadata": {},
     "output_type": "execute_result"
    }
   ],
   "source": [
    "\"\"\"\n",
    "\n",
    "Financial Analysis\n",
    "----------------------------\n",
    "Total Months: 86\n",
    "Total: $22564198\n",
    "Average Change: $-8311.11\n",
    "Greatest Increase in Profits: Aug-16 ($1862002)\n",
    "Greatest Decrease in Profits: Feb-14 ($-1825558)\n",
    "\n",
    "\n",
    "\"\"\""
   ]
  },
  {
   "cell_type": "code",
   "execution_count": null,
   "id": "a01cbf67",
   "metadata": {},
   "outputs": [],
   "source": []
  }
 ],
 "metadata": {
  "kernelspec": {
   "display_name": "Python 3 (ipykernel)",
   "language": "python",
   "name": "python3"
  },
  "language_info": {
   "codemirror_mode": {
    "name": "ipython",
    "version": 3
   },
   "file_extension": ".py",
   "mimetype": "text/x-python",
   "name": "python",
   "nbconvert_exporter": "python",
   "pygments_lexer": "ipython3",
   "version": "3.10.9"
  }
 },
 "nbformat": 4,
 "nbformat_minor": 5
}
