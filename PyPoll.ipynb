{
 "cells": [
  {
   "cell_type": "code",
   "execution_count": 36,
   "id": "ace1fa69",
   "metadata": {},
   "outputs": [
    {
     "name": "stdout",
     "output_type": "stream",
     "text": [
      "Election Results\n",
      "-------------------------\n",
      "Name: Charles Casper Stockham: 23.05% (85213)\n",
      "Name: Diana DeGette: 73.81% (272892)\n",
      "Name: Raymon Anthony Doane: 3.14% (11606)\n",
      "-------------------------\n",
      "Winner: Diana DeGette\n",
      "-------------------------\n"
     ]
    }
   ],
   "source": [
    "#The total number of votes cast\n",
    "\n",
    "#A complete list of candidates who received votes\n",
    "\n",
    "#The percentage of votes each candidate won\n",
    "\n",
    "#The total number of votes each candidate won\n",
    "\n",
    "#The winner of the election based on popular vote\n",
    "\n",
    "\n",
    "import csv\n",
    "import os\n",
    "\n",
    "csvpath = os.path.join(\"election_data.csv\")\n",
    "analysis = os.path.join(\"PyPoll_analysis.txt\")\n",
    "\n",
    "total_num_votes = 0\n",
    "candidates_list = []\n",
    "vote_count = {}\n",
    "\n",
    "with open(csvpath) as csvfile:\n",
    "    csvreader = csv.reader(csvfile, delimiter = \",\")\n",
    "  \n",
    "    # uses up first row and leaves the rest of data\n",
    "    csv_headers = next(csvreader) \n",
    "    \n",
    "    print(f\"Election Results\")\n",
    "    print(\"-\"*25)\n",
    "    \n",
    "    for x in csvreader:\n",
    "        total_num_votes += 1\n",
    "        name = x[2]\n",
    "\n",
    "        if name not in candidates_list:\n",
    "            candidates_list.append(name)\n",
    "            vote_count[name] = 1\n",
    "        # if the candidate already exists the increment by 1\n",
    "        else:\n",
    "            vote_count[name] += 1\n",
    "\n",
    "# Writing in output txt file\n",
    "with open(analysis, \"a\") as txtfile:\n",
    "    txtfile.write(f\"Election Results \\n\")\n",
    "    txtfile.write(f\"-\"*25)\n",
    "    txtfile.write(\"\\n\")\n",
    "    txtfile.write(f\"Total Votes: {total_num_votes} \\n\")\n",
    "    txtfile.write(f\"-\"*25)\n",
    "    txtfile.write(\"\\n\")\n",
    "    \n",
    "    for i, v in vote_count.items():\n",
    "        percent_vote = (v /total_num_votes) * 100\n",
    "        percent_vote = round(percent_vote,2) \n",
    "        \n",
    "        print(f\"Name: {i}: {percent_vote}% ({v})\")\n",
    "        txtfile.write(f\"{i} : {percent_vote}% ({v}) \\n\")\n",
    "\n",
    "    for i, v in vote_count.items():\n",
    "        \n",
    "        #Total Number of Votes each candidate won          \n",
    "        max_votes = 0\n",
    "        name = \"\"\n",
    "        \n",
    "        \n",
    "    for i,v in vote_count.items():\n",
    "        if max_votes < v: \n",
    "            max_votes = v\n",
    "            name = i\n",
    "        else:\n",
    "            continue  \n",
    "    \n",
    "with open(analysis, \"a\") as txtfile:\n",
    "    txtfile.write(f\"-\"*25)\n",
    "    txtfile.write(\"\\n\")\n",
    "    txtfile.write(f\"Winner: {name}\")\n",
    "    \n",
    "            \n",
    "    print(\"-\"*25)\n",
    "    print(f\"Winner: {name}\")\n",
    "    print(\"-\"*25)\n",
    "        "
   ]
  },
  {
   "cell_type": "code",
   "execution_count": 25,
   "id": "ff827b3b",
   "metadata": {},
   "outputs": [
    {
     "data": {
      "text/plain": [
       "'\\nElection Results\\n-------------------------\\nTotal Votes: 369711\\n-------------------------\\nCharles Casper Stockham: 23.049% (85213)\\nDiana DeGette: 73.812% (272892)\\nRaymon Anthony Doane: 3.139% (11606)\\n-------------------------\\nWinner: Diana DeGette\\n-------------------------\\n\\n'"
      ]
     },
     "execution_count": 25,
     "metadata": {},
     "output_type": "execute_result"
    }
   ],
   "source": [
    "\"\"\"\n",
    "Election Results\n",
    "-------------------------\n",
    "Total Votes: 369711\n",
    "-------------------------\n",
    "Charles Casper Stockham: 23.049% (85213)\n",
    "Diana DeGette: 73.812% (272892)\n",
    "Raymon Anthony Doane: 3.139% (11606)\n",
    "-------------------------\n",
    "Winner: Diana DeGette\n",
    "-------------------------\n",
    "\n",
    "\"\"\""
   ]
  },
  {
   "cell_type": "code",
   "execution_count": null,
   "id": "33c842a2",
   "metadata": {},
   "outputs": [],
   "source": []
  },
  {
   "cell_type": "code",
   "execution_count": null,
   "id": "30b6269f",
   "metadata": {},
   "outputs": [],
   "source": []
  }
 ],
 "metadata": {
  "kernelspec": {
   "display_name": "Python 3 (ipykernel)",
   "language": "python",
   "name": "python3"
  },
  "language_info": {
   "codemirror_mode": {
    "name": "ipython",
    "version": 3
   },
   "file_extension": ".py",
   "mimetype": "text/x-python",
   "name": "python",
   "nbconvert_exporter": "python",
   "pygments_lexer": "ipython3",
   "version": "3.10.9"
  }
 },
 "nbformat": 4,
 "nbformat_minor": 5
}
